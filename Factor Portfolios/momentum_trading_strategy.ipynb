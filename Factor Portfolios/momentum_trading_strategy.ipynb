{
 "cells": [
  {
   "cell_type": "markdown",
   "metadata": {},
   "source": [
    "# Factor Portfolios\n",
    "\n",
    "Goal: To identify a statistical driver that predicts returns and go long the stocks with highest correlation\n",
    "\n",
    "#### Momentum Strategy: A tendency of securities to continue moving in the same direction as they have in the past\n",
    "\n",
    "A statistical factor that measures the trend. Long the stocks that are exhibiting highest momentum and short the lowest momentum. Identify the herd behavior and long / short the stocks"
   ]
  },
  {
   "cell_type": "code",
   "execution_count": null,
   "metadata": {},
   "outputs": [],
   "source": [
    "import pandas as pd\n",
    "import numpy as np\n",
    "import datetime\n",
    "import threading\n",
    "\n",
    "from ibapi.client import EClient\n",
    "from ibapi.wrapper import EWrapper\n",
    "from ibapi.contract import Contract\n",
    "from ibapi.order import *\n",
    "\n",
    "from openbb_terminal.sdk import openbb"
   ]
  },
  {
   "cell_type": "code",
   "execution_count": null,
   "metadata": {},
   "outputs": [],
   "source": [
    "lastBusDay = datetime.datetime.today()\n",
    "wk_day = datetime.date.weekday(lastBusDay)\n",
    "if wk_day > 4:      #if it's Saturday or Sunday\n",
    "    lastBusDay = lastBusDay - datetime.timedelta(days = wk_day-4) \n",
    "\n",
    "today = lastBusDay.strftime(\"%Y-%m-%d\")\n",
    "top_N = 5"
   ]
  },
  {
   "cell_type": "code",
   "execution_count": null,
   "metadata": {},
   "outputs": [],
   "source": [
    "today = '2023-12-22'"
   ]
  },
  {
   "cell_type": "code",
   "execution_count": null,
   "metadata": {},
   "outputs": [],
   "source": [
    "# today = datetime.datetime.now() - datetime.timedelta(1)\n",
    "# today = today.strftime(\"%Y-%m-%d\")"
   ]
  },
  {
   "cell_type": "code",
   "execution_count": null,
   "metadata": {},
   "outputs": [],
   "source": [
    "gold_cross_above = openbb.stocks.screener.screener_data('goldcross_usa_mid_gt')"
   ]
  },
  {
   "cell_type": "code",
   "execution_count": null,
   "metadata": {},
   "outputs": [],
   "source": [
    "gold_cross_below = openbb.stocks.screener.screener_data(preset_loaded= 'goldcross_usa_mid_lt')"
   ]
  },
  {
   "cell_type": "markdown",
   "metadata": {},
   "source": [
    "## Data Preparation"
   ]
  },
  {
   "cell_type": "code",
   "execution_count": null,
   "metadata": {},
   "outputs": [],
   "source": [
    "tickers = gold_cross_above.Ticker.tolist()\n",
    "tickers += gold_cross_below.Ticker.tolist()\n",
    "len(tickers)"
   ]
  },
  {
   "cell_type": "code",
   "execution_count": null,
   "metadata": {},
   "outputs": [],
   "source": [
    "stocks = []\n",
    "for t in tickers:\n",
    "    df = (\n",
    "        openbb.stocks.load(t, start_date='2015-01-01', end_date=today, verbose=False)\n",
    "    )\n",
    "    df['ticker'] = t\n",
    "    stocks.append(df)"
   ]
  },
  {
   "cell_type": "code",
   "execution_count": null,
   "metadata": {},
   "outputs": [],
   "source": [
    "stock_historic = pd.concat(stocks)"
   ]
  },
  {
   "cell_type": "code",
   "execution_count": null,
   "metadata": {},
   "outputs": [],
   "source": [
    "stock_prices = pd.concat(stocks)"
   ]
  },
  {
   "cell_type": "code",
   "execution_count": null,
   "metadata": {},
   "outputs": [],
   "source": [
    "stock_prices"
   ]
  },
  {
   "cell_type": "code",
   "execution_count": null,
   "metadata": {},
   "outputs": [],
   "source": [
    "stock_prices.drop(['Close','Dividends','Stock Splits'], axis=1, inplace=True)"
   ]
  },
  {
   "cell_type": "code",
   "execution_count": null,
   "metadata": {},
   "outputs": [],
   "source": [
    "stock_prices.columns = ['open','high','low','close','volume','ticker']"
   ]
  },
  {
   "cell_type": "markdown",
   "metadata": {},
   "source": [
    "## Factor Engineering"
   ]
  },
  {
   "cell_type": "code",
   "execution_count": null,
   "metadata": {},
   "outputs": [],
   "source": [
    "# check to make sure we have atleast 2 years of data\n",
    "days_of_data = stock_prices.groupby('ticker').size()"
   ]
  },
  {
   "cell_type": "code",
   "execution_count": null,
   "metadata": {},
   "outputs": [],
   "source": [
    "mask = days_of_data[days_of_data > 2 * 12 * 21].index # gets index of rows that have count > 2 years * 12 months * 21 days per month\n",
    "stock_prices = stock_prices[stock_prices.ticker.isin(mask)] #filter out portfolios only that match the criteria"
   ]
  },
  {
   "cell_type": "code",
   "execution_count": null,
   "metadata": {},
   "outputs": [],
   "source": [
    "#data munging\n",
    "stock_prices = (\n",
    "    stock_prices\n",
    "    .set_index('ticker', append=True)\n",
    "    .reorder_levels(['ticker','date'])\n",
    ").drop_duplicates()"
   ]
  },
  {
   "cell_type": "code",
   "execution_count": null,
   "metadata": {},
   "outputs": [],
   "source": [
    "def momentum(close):\n",
    "    returns = close.pct_change()[-126:] # get returns for previous 126 days\n",
    "    return (\n",
    "        (close[-21] - close[-252])/close[-252] # monthly returns per year\n",
    "        - (close[-1] - close[-21]) / close[-21] # daily returns per month\n",
    "    ) / np.std(returns) # normalized using standard deviation"
   ]
  },
  {
   "cell_type": "code",
   "execution_count": null,
   "metadata": {},
   "outputs": [],
   "source": [
    "df = (\n",
    "    stock_prices\n",
    "    .groupby(\n",
    "        'ticker',\n",
    "        group_keys=False\n",
    "    )\n",
    "    .rolling(252)\n",
    "    .close\n",
    "    .apply(momentum)\n",
    ")"
   ]
  },
  {
   "cell_type": "code",
   "execution_count": null,
   "metadata": {},
   "outputs": [],
   "source": [
    "#pandas adds an extra ticker index, drop it\n",
    "df.index = df.index.droplevel(0)"
   ]
  },
  {
   "cell_type": "code",
   "execution_count": null,
   "metadata": {},
   "outputs": [],
   "source": [
    "stock_prices['momentum'] = df\n",
    "stock_prices.dropna(inplace=True)"
   ]
  },
  {
   "cell_type": "code",
   "execution_count": null,
   "metadata": {},
   "outputs": [],
   "source": [
    "# rank the momentum\n",
    "stock_prices['factor_rank'] = (\n",
    "    stock_prices\n",
    "    .groupby(level=[1])\n",
    "    .momentum\n",
    "    .rank(ascending=False)\n",
    ")"
   ]
  },
  {
   "cell_type": "code",
   "execution_count": null,
   "metadata": {},
   "outputs": [],
   "source": [
    "# stocks_to_buy = (\n",
    "#     stock_prices\n",
    "#     .xs(today, level=1)\n",
    "#     .sort_values('factor_rank')\n",
    "#     .head(10)\n",
    "# )"
   ]
  },
  {
   "cell_type": "code",
   "execution_count": null,
   "metadata": {},
   "outputs": [],
   "source": [
    "start_date = datetime.date(2023,12,22)\n",
    "selected_stocks = []\n",
    "for i in range(0, 5):\n",
    "    ix = (\n",
    "    stock_prices\n",
    "    .xs((start_date - datetime.timedelta(i)).strftime('%Y-%m-%d'), level=1)\n",
    "    .sort_values('factor_rank')\n",
    "    .head(10)\n",
    ").index.tolist()\n",
    "    selected_stocks.append(ix)"
   ]
  },
  {
   "cell_type": "code",
   "execution_count": null,
   "metadata": {},
   "outputs": [],
   "source": [
    "#get unique stocks from the past 5 days that exhibit momentum\n",
    "from functools import reduce\n",
    "ticks = list(reduce(lambda i, j: i|j, (set(x) for x in selected_stocks)))\n",
    "ticks"
   ]
  },
  {
   "cell_type": "markdown",
   "metadata": {},
   "source": [
    "# Risk Parity"
   ]
  },
  {
   "cell_type": "code",
   "execution_count": null,
   "metadata": {},
   "outputs": [],
   "source": [
    "import riskfolio as rp"
   ]
  },
  {
   "cell_type": "code",
   "execution_count": null,
   "metadata": {},
   "outputs": [],
   "source": [
    "def calc_returns(df):\n",
    "    df['daily_returns'] = df['close'].pct_change()\n",
    "    return df"
   ]
  },
  {
   "cell_type": "code",
   "execution_count": null,
   "metadata": {},
   "outputs": [],
   "source": [
    "# filter for stock prices that are in selected ticks\n",
    "df = stock_prices[stock_prices.index.get_level_values('ticker').isin(ticks)]"
   ]
  },
  {
   "cell_type": "code",
   "execution_count": null,
   "metadata": {},
   "outputs": [],
   "source": [
    "data = (df.groupby(level = 'ticker',group_keys=False).apply(calc_returns))"
   ]
  },
  {
   "cell_type": "code",
   "execution_count": null,
   "metadata": {},
   "outputs": [],
   "source": [
    "data = data.unstack(level=0)"
   ]
  },
  {
   "cell_type": "code",
   "execution_count": null,
   "metadata": {},
   "outputs": [],
   "source": [
    "data.dropna(inplace=True)"
   ]
  },
  {
   "cell_type": "code",
   "execution_count": null,
   "metadata": {},
   "outputs": [],
   "source": [
    "portfolio = rp.Portfolio(returns=data.daily_returns)"
   ]
  },
  {
   "cell_type": "code",
   "execution_count": null,
   "metadata": {},
   "outputs": [],
   "source": [
    "# Define params for risk parity optimizer\n",
    "portfolio.lowerret = 0.0008\n",
    "portfolio.assets_stats(method_mu=\"hist\", method_cov=\"hist\", d=0.94)\n",
    "w_rp = portfolio.rp_optimization(model=\"Classic\", rm=\"MV\", rf=0.05, hist=True)"
   ]
  },
  {
   "cell_type": "code",
   "execution_count": null,
   "metadata": {},
   "outputs": [],
   "source": [
    "investment_amount = 100_000\n",
    "w_rp['investible_amount'] = investment_amount * w_rp"
   ]
  },
  {
   "cell_type": "code",
   "execution_count": null,
   "metadata": {},
   "outputs": [],
   "source": [
    "w_rp.investible_amount.sum()"
   ]
  },
  {
   "cell_type": "code",
   "execution_count": null,
   "metadata": {},
   "outputs": [],
   "source": [
    "w_rp['last_price'] = data.close.iloc[-1]\n",
    "w_rp['shares'] = 0"
   ]
  },
  {
   "cell_type": "code",
   "execution_count": null,
   "metadata": {},
   "outputs": [],
   "source": [
    "def allocate(df, amount):\n",
    "    no_more_allocated = True\n",
    "    for row in df.itertuples():\n",
    "        last_price = w_rp.at[row.Index, 'last_price']\n",
    "        invested_amount = w_rp.at[row.Index, 'shares'] * last_price \n",
    "        if last_price < amount and w_rp.at[row.Index, 'investible_amount'] > (invested_amount+last_price):\n",
    "            amount -= last_price\n",
    "            w_rp.at[row.Index, 'shares'] += 1\n",
    "            no_more_allocated = False\n",
    "        else:\n",
    "            continue\n",
    "    return amount, no_more_allocated"
   ]
  },
  {
   "cell_type": "code",
   "execution_count": null,
   "metadata": {},
   "outputs": [],
   "source": [
    "investment_amount"
   ]
  },
  {
   "cell_type": "code",
   "execution_count": null,
   "metadata": {},
   "outputs": [],
   "source": [
    "remaining = investment_amount\n",
    "stopTheLoop = False\n",
    "while(True):\n",
    "    if remaining > 100 and stopTheLoop == False:\n",
    "        remaining, stopTheLoop = allocate(w_rp, remaining)\n",
    "    else:\n",
    "        break\n",
    "    "
   ]
  },
  {
   "cell_type": "code",
   "execution_count": null,
   "metadata": {},
   "outputs": [],
   "source": [
    "w_rp"
   ]
  },
  {
   "cell_type": "markdown",
   "metadata": {},
   "source": [
    "# We now have the model portfolio, rebalance account based on this"
   ]
  },
  {
   "cell_type": "code",
   "execution_count": null,
   "metadata": {},
   "outputs": [],
   "source": [
    "from ibapi.client import EClient\n",
    "from ibapi.wrapper import EWrapper\n",
    "from ibapi.contract import Contract\n",
    "from ibapi.order import *"
   ]
  },
  {
   "cell_type": "code",
   "execution_count": null,
   "metadata": {},
   "outputs": [],
   "source": [
    "class IBapi(EWrapper, EClient):\n",
    "    def __init__(self):\n",
    "        EClient.__init__(self, self)\n",
    "        self.pos_df = pd.DataFrame(columns=['Account', 'Symbol', 'SecType',\n",
    "                                            'Currency', 'Position', 'Avg cost']) \n",
    "    \n",
    "    def nextValidId(self, orderId: int):\n",
    "        super().nextValidId(orderId)\n",
    "        self.nextOrderId = orderId\n",
    "    \n",
    "    def position(self, account, contract, position, avgCost):\n",
    "        super().position(account, contract, position, avgCost)\n",
    "        \n",
    "        dictionary = {\"Account\":account, \"Symbol\": contract.symbol, \"SecType\": contract.secType,\n",
    "                        \"Currency\": contract.currency, \"Position\": position, \"Avg cost\": avgCost}\n",
    "        if self.pos_df[\"Symbol\"].str.contains(contract.symbol).any():\n",
    "            self.pos_df.loc[self.pos_df[\"Symbol\"]==contract.symbol,\"Position\"] = position\n",
    "            self.pos_df.loc[self.pos_df[\"Symbol\"]==contract.symbol,\"Avg cost\"] = avgCost\n",
    "        else:\n",
    "            self.pos_df = pd.concat([self.pos_df,pd.DataFrame(dictionary, index=[0])], ignore_index=True)"
   ]
  },
  {
   "cell_type": "code",
   "execution_count": null,
   "metadata": {},
   "outputs": [],
   "source": [
    "import time\n",
    "def stock_contract(symbol, secType=\"STK\", exchange=\"SMART\", currency=\"USD\"):\n",
    "        contract = Contract()\n",
    "        contract.symbol = symbol\n",
    "        contract.secType = secType\n",
    "        contract.exchange = exchange\n",
    "        contract.currency = currency\n",
    "        return contract\n",
    "    \n",
    "def submit_order(contract, direction, qty=100, orderType=\"MKT\", transmit=True):\n",
    "    order = Order()\n",
    "    order.action = direction\n",
    "    order.totalQuantity = qty\n",
    "    order.orderType = orderType\n",
    "    order.transmit = transmit\n",
    "    order.eTradeOnly = \"\"\n",
    "    order.firmQuoteOnly = \"\"\n",
    "    # submit order\n",
    "    app.placeOrder(app.nextOrderId, contract, order)\n",
    "    app.nextOrderId += 1"
   ]
  },
  {
   "cell_type": "code",
   "execution_count": null,
   "metadata": {},
   "outputs": [],
   "source": [
    "def run_loop():\n",
    "    app.run()\n",
    "\n",
    "app = IBapi()\n",
    "app.connect('127.0.0.1', 7497, 1) # verify this on ibroker client\n",
    "app.nextOrderId = None\n",
    "\n",
    "api_thread = threading.Thread(target=run_loop, daemon=True)\n",
    "api_thread.start()\n",
    "\n",
    "counter = 1\n",
    "while True:\n",
    "    if isinstance(app.nextOrderId, int):\n",
    "        print(\"Connected\")\n",
    "        break\n",
    "    else:\n",
    "        counter = counter+1\n",
    "        print(f\"Waiting {counter}\")\n",
    "        if counter == 60:\n",
    "            app.disconnect()\n",
    "            break\n",
    "        time.sleep(1)"
   ]
  },
  {
   "cell_type": "code",
   "execution_count": null,
   "metadata": {},
   "outputs": [],
   "source": [
    "app.reqPositions()\n",
    "time.sleep(1)\n",
    "pos_df = app.pos_df"
   ]
  },
  {
   "cell_type": "code",
   "execution_count": null,
   "metadata": {},
   "outputs": [],
   "source": [
    "w_rp['shares'] = w_rp['shares'].astype(float)\n",
    "pos_df['Position'] = pos_df['Position'].astype(float)"
   ]
  },
  {
   "cell_type": "code",
   "execution_count": null,
   "metadata": {},
   "outputs": [],
   "source": [
    "df_change = (pd.merge(w_rp, pos_df.set_index('Symbol'),left_index=True,right_index=True, how=\"outer\")\n",
    "    .fillna(0.0)\n",
    "    .assign(change = lambda x: x.shares - x.Position)\n",
    "    .assign(buy = lambda x: np.where(x.change > 0, x.change, 0))\n",
    "    .assign(sell = lambda x: np.where(x.change < 0, abs(x.change), 0))\n",
    ")"
   ]
  },
  {
   "cell_type": "code",
   "execution_count": null,
   "metadata": {},
   "outputs": [],
   "source": [
    "df_buy = df_change[df_change.buy > 0]\n",
    "df_sell = df_change[df_change.sell > 0]"
   ]
  },
  {
   "cell_type": "code",
   "execution_count": null,
   "metadata": {},
   "outputs": [],
   "source": [
    "for row in df_sell.itertuples():\n",
    "    contract = stock_contract(row.Index)\n",
    "    qty = row.sell\n",
    "    # if qty != 0:\n",
    "        # submit_order(contract, direction=\"SELL\", qty=qty)"
   ]
  },
  {
   "cell_type": "code",
   "execution_count": null,
   "metadata": {},
   "outputs": [],
   "source": [
    "for row in df_buy.itertuples():\n",
    "    contract = stock_contract(row.Index)\n",
    "    qty = row.buy\n",
    "    if qty != 0:\n",
    "        submit_order(contract, direction=\"BUY\", qty=row.buy)"
   ]
  },
  {
   "cell_type": "code",
   "execution_count": 500,
   "metadata": {},
   "outputs": [],
   "source": [
    "app.disconnect()"
   ]
  }
 ],
 "metadata": {
  "kernelspec": {
   "display_name": "web-stack",
   "language": "python",
   "name": "python3"
  },
  "language_info": {
   "codemirror_mode": {
    "name": "ipython",
    "version": 3
   },
   "file_extension": ".py",
   "mimetype": "text/x-python",
   "name": "python",
   "nbconvert_exporter": "python",
   "pygments_lexer": "ipython3",
   "version": "3.9.18"
  }
 },
 "nbformat": 4,
 "nbformat_minor": 2
}
