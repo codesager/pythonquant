{
 "cells": [
  {
   "cell_type": "markdown",
   "metadata": {},
   "source": [
    "## Volatility Targeting\n",
    "    - screeners to define the universe\n",
    "    - add rebalance function"
   ]
  },
  {
   "cell_type": "code",
   "execution_count": null,
   "metadata": {},
   "outputs": [],
   "source": [
    "from finvizfinance.screener.overview import Overview\n",
    "import yfinance as yf\n",
    "import riskfolio as rp\n",
    "import pandas as pd\n",
    "import numpy as np\n",
    "import streamlit as st"
   ]
  },
  {
   "cell_type": "code",
   "execution_count": null,
   "metadata": {},
   "outputs": [],
   "source": [
    "overView = Overview()\n",
    "# overView.set_filter(filters_dict= {'Index': 'S&P 500', 'Price': 'Over $50', 'Country':'USA', 'Market Cap.':'+Mid (over $2bln)', 'P/E':'Over 20', 'Beta': 'Over 1', 'Average Volume': 'Over 100K' })\n",
    "overView.set_filter(signal=\"New High\", filters_dict= {'Price': 'Over $15', 'Country':'USA', 'Market Cap.':'+Mid (over $2bln)'})\n",
    "screen_data = overView.screener_view()"
   ]
  },
  {
   "cell_type": "code",
   "execution_count": null,
   "metadata": {},
   "outputs": [],
   "source": [
    "screen_data"
   ]
  },
  {
   "cell_type": "code",
   "execution_count": null,
   "metadata": {},
   "outputs": [],
   "source": [
    "stocks_of_interest = screen_data[screen_data['Market Cap'] >= screen_data['Market Cap'].quantile(0.60)]"
   ]
  },
  {
   "cell_type": "code",
   "execution_count": null,
   "metadata": {},
   "outputs": [],
   "source": [
    "tickers = stocks_of_interest.Ticker.to_list() #screen_data.Ticker.to_list() #\n",
    "tickers.sort()"
   ]
  },
  {
   "cell_type": "code",
   "execution_count": null,
   "metadata": {},
   "outputs": [],
   "source": [
    "ticker_data = yf.download(tickers=tickers, start = '2019-01-01')"
   ]
  },
  {
   "cell_type": "code",
   "execution_count": null,
   "metadata": {},
   "outputs": [],
   "source": [
    "historic_prices = ticker_data.loc[:,('Adj Close', slice(None))]\n",
    "historic_prices.columns = tickers"
   ]
  },
  {
   "cell_type": "code",
   "execution_count": null,
   "metadata": {},
   "outputs": [],
   "source": [
    "daily_returns = historic_prices[tickers].pct_change().dropna()"
   ]
  },
  {
   "cell_type": "code",
   "execution_count": null,
   "metadata": {},
   "outputs": [],
   "source": [
    "portfolio = rp.Portfolio(returns=daily_returns)"
   ]
  },
  {
   "cell_type": "code",
   "execution_count": null,
   "metadata": {},
   "outputs": [],
   "source": [
    "# Define params for risk parity optimizer\n",
    "portfolio.lowerret = 0.0008\n",
    "portfolio.assets_stats(method_mu=\"hist\", method_cov=\"hist\", d=0.94)\n",
    "w_rp = portfolio.rp_optimization(model=\"Classic\", rm=\"MV\", rf=0.05, hist=True)"
   ]
  },
  {
   "cell_type": "code",
   "execution_count": null,
   "metadata": {},
   "outputs": [],
   "source": [
    "pie = rp.plot_pie(\n",
    "    w=w_rp,\n",
    "    width=12,\n",
    "    height=10,\n",
    "    ax=None\n",
    ")"
   ]
  },
  {
   "cell_type": "code",
   "execution_count": null,
   "metadata": {},
   "outputs": [],
   "source": [
    "ax = rp.plot_risk_con(\n",
    "    w=w_rp,\n",
    "    cov= portfolio.cov,\n",
    "    returns= portfolio.returns,\n",
    "    rm=\"MV\",\n",
    "    rf=0.05\n",
    ")"
   ]
  },
  {
   "cell_type": "code",
   "execution_count": null,
   "metadata": {},
   "outputs": [],
   "source": [
    "portfolio_value = 100_000"
   ]
  },
  {
   "cell_type": "code",
   "execution_count": null,
   "metadata": {},
   "outputs": [],
   "source": [
    "w_rp['investment_amount'] = w_rp * portfolio_value # weight * Market Value"
   ]
  },
  {
   "cell_type": "code",
   "execution_count": null,
   "metadata": {},
   "outputs": [],
   "source": [
    "w_rp.investment_amount.sum()"
   ]
  },
  {
   "cell_type": "code",
   "execution_count": null,
   "metadata": {},
   "outputs": [],
   "source": [
    "w_rp['last_price'] = historic_prices.iloc[-1]"
   ]
  },
  {
   "cell_type": "code",
   "execution_count": null,
   "metadata": {},
   "outputs": [],
   "source": [
    "w_rp['shares'] = 0 #round(w_rp.investment_amount / w_rp.last_price)"
   ]
  },
  {
   "cell_type": "code",
   "execution_count": null,
   "metadata": {},
   "outputs": [],
   "source": [
    "#drop shares with zero values\n",
    "# w_rp.loc[(w_rp[['shares']] != 0).all(axis=1)]"
   ]
  },
  {
   "cell_type": "code",
   "execution_count": null,
   "metadata": {},
   "outputs": [],
   "source": [
    "def allocate(df, amount):\n",
    "    no_more_allocated = True\n",
    "    for row in df.itertuples():\n",
    "        last_price = w_rp.at[row.Index, 'last_price']\n",
    "        invested_amount = w_rp.at[row.Index, 'shares'] * last_price \n",
    "        if last_price < amount and w_rp.at[row.Index, 'investment_amount'] > (invested_amount+last_price):\n",
    "            amount -= last_price\n",
    "            w_rp.at[row.Index, 'shares'] += 1\n",
    "            no_more_allocated = False\n",
    "        else:\n",
    "            continue\n",
    "    return amount, no_more_allocated"
   ]
  },
  {
   "cell_type": "code",
   "execution_count": null,
   "metadata": {},
   "outputs": [],
   "source": [
    "remaining = portfolio_value\n",
    "stopTheLoop = False\n",
    "while(True):\n",
    "    if remaining > 100 and stopTheLoop == False:\n",
    "        remaining, stopTheLoop = allocate(w_rp, remaining)\n",
    "    else:\n",
    "        break\n",
    "    "
   ]
  },
  {
   "cell_type": "code",
   "execution_count": null,
   "metadata": {},
   "outputs": [],
   "source": [
    "w_rp['invested_amount'] = w_rp.last_price * w_rp.shares"
   ]
  },
  {
   "cell_type": "code",
   "execution_count": null,
   "metadata": {},
   "outputs": [],
   "source": [
    "w_rp"
   ]
  },
  {
   "cell_type": "code",
   "execution_count": null,
   "metadata": {},
   "outputs": [],
   "source": [
    "w_rp[w_rp['shares'] == 0]"
   ]
  },
  {
   "cell_type": "code",
   "execution_count": null,
   "metadata": {},
   "outputs": [],
   "source": [
    "remaining = portfolio_value - (w_rp['shares'] * w_rp['last_price']).sum()\n",
    "remaining"
   ]
  },
  {
   "cell_type": "code",
   "execution_count": null,
   "metadata": {},
   "outputs": [],
   "source": [
    "from ibapi.client import EClient\n",
    "from ibapi.wrapper import EWrapper\n",
    "from ibapi.contract import Contract\n",
    "from ibapi.order import *\n",
    "\n",
    "import time\n",
    "import threading"
   ]
  },
  {
   "cell_type": "code",
   "execution_count": null,
   "metadata": {},
   "outputs": [],
   "source": [
    "class IBapi(EWrapper, EClient):\n",
    "    def __init__(self):\n",
    "        EClient.__init__(self, self)\n",
    "        self.pos_df = pd.DataFrame(columns=['Account', 'Symbol', 'SecType',\n",
    "                                            'Currency', 'Position', 'Avg cost']) \n",
    "    \n",
    "    def nextValidId(self, orderId: int):\n",
    "        super().nextValidId(orderId)\n",
    "        self.nextOrderId = orderId\n",
    "    \n",
    "    def position(self, account, contract, position, avgCost):\n",
    "        super().position(account, contract, position, avgCost)\n",
    "        \n",
    "        dictionary = {\"Account\":account, \"Symbol\": contract.symbol, \"SecType\": contract.secType,\n",
    "                        \"Currency\": contract.currency, \"Position\": position, \"Avg cost\": avgCost}\n",
    "        if self.pos_df[\"Symbol\"].str.contains(contract.symbol).any():\n",
    "            self.pos_df.loc[self.pos_df[\"Symbol\"]==contract.symbol,\"Position\"] = position\n",
    "            self.pos_df.loc[self.pos_df[\"Symbol\"]==contract.symbol,\"Avg cost\"] = avgCost\n",
    "        else:\n",
    "            self.pos_df = pd.concat([self.pos_df,pd.DataFrame(dictionary, index=[0])], ignore_index=True)"
   ]
  },
  {
   "cell_type": "code",
   "execution_count": null,
   "metadata": {},
   "outputs": [],
   "source": [
    "def stock_contract(symbol, secType=\"STK\", exchange=\"SMART\", currency=\"USD\"):\n",
    "        contract = Contract()\n",
    "        contract.symbol = symbol\n",
    "        contract.secType = secType\n",
    "        contract.exchange = exchange\n",
    "        contract.currency = currency\n",
    "        return contract\n",
    "    \n",
    "def submit_order(contract, direction, qty=100, orderType=\"MKT\", transmit=True):\n",
    "    order = Order()\n",
    "    order.action = direction\n",
    "    order.totalQuantity = qty\n",
    "    order.orderType = orderType\n",
    "    order.transmit = transmit\n",
    "    order.eTradeOnly = \"\"\n",
    "    order.firmQuoteOnly = \"\"\n",
    "    # submit order\n",
    "    app.placeOrder(app.nextOrderId, contract, order)\n",
    "    app.nextOrderId += 1"
   ]
  },
  {
   "cell_type": "code",
   "execution_count": null,
   "metadata": {},
   "outputs": [],
   "source": [
    "def run_loop():\n",
    "    app.run()\n",
    "\n",
    "app = IBapi()\n",
    "app.connect('127.0.0.1', 7497, 123) # verify this on ibroker client\n",
    "app.nextOrderId = None\n",
    "\n",
    "api_thread = threading.Thread(target=run_loop, daemon=True)\n",
    "api_thread.start()\n",
    "\n",
    "counter = 1\n",
    "while True:\n",
    "    if isinstance(app.nextOrderId, int):\n",
    "        print(\"Connected\")\n",
    "        break\n",
    "    else:\n",
    "        counter = counter+1\n",
    "        print(f\"Waiting {counter}\")\n",
    "        if counter == 60:\n",
    "            app.disconnect()\n",
    "            break\n",
    "        time.sleep(1)"
   ]
  },
  {
   "cell_type": "code",
   "execution_count": null,
   "metadata": {},
   "outputs": [],
   "source": [
    "w_rp"
   ]
  },
  {
   "cell_type": "code",
   "execution_count": null,
   "metadata": {},
   "outputs": [],
   "source": [
    "# for row in w_rp.itertuples():\n",
    "#     contract = stock_contract(row.Index)\n",
    "#     submit_order(contract, direction=\"BUY\", qty=row.shares)"
   ]
  },
  {
   "cell_type": "markdown",
   "metadata": {},
   "source": [
    "### Rebalance"
   ]
  },
  {
   "cell_type": "code",
   "execution_count": null,
   "metadata": {},
   "outputs": [],
   "source": [
    "app.reqPositions()\n",
    "time.sleep(1)\n",
    "pos_df = app.pos_df"
   ]
  },
  {
   "cell_type": "code",
   "execution_count": null,
   "metadata": {},
   "outputs": [],
   "source": [
    "df_change = (pd.merge(w_rp, pos_df.set_index('Symbol'),left_index=True,right_index=True, how=\"outer\")\n",
    "    .fillna(0)\n",
    "    .assign(change = lambda x: x.shares - x.Position)\n",
    "    .assign(buy = lambda x: np.where(x.change > 0, x.change, 0))\n",
    "    .assign(sell = lambda x: np.where(x.change < 0, abs(x.change), 0))\n",
    ")"
   ]
  },
  {
   "cell_type": "code",
   "execution_count": null,
   "metadata": {},
   "outputs": [],
   "source": [
    "df_buy = df_change[df_change.buy > 0]\n",
    "df_sell = df_change[df_change.sell > 0]"
   ]
  },
  {
   "cell_type": "code",
   "execution_count": null,
   "metadata": {},
   "outputs": [],
   "source": [
    "df_sell"
   ]
  },
  {
   "cell_type": "code",
   "execution_count": null,
   "metadata": {},
   "outputs": [],
   "source": [
    "for row in df_sell.itertuples():\n",
    "    contract = stock_contract(row.Index)\n",
    "    submit_order(contract, direction=\"SELL\", qty=row.sell)"
   ]
  },
  {
   "cell_type": "code",
   "execution_count": null,
   "metadata": {},
   "outputs": [],
   "source": [
    "for row in df_buy.itertuples():\n",
    "    contract = stock_contract(row.Index)\n",
    "    submit_order(contract, direction=\"BUY\", qty=row.buy)"
   ]
  },
  {
   "cell_type": "code",
   "execution_count": null,
   "metadata": {},
   "outputs": [],
   "source": [
    "app.disconnect()"
   ]
  }
 ],
 "metadata": {
  "kernelspec": {
   "display_name": "quant-stack-bk",
   "language": "python",
   "name": "python3"
  },
  "language_info": {
   "codemirror_mode": {
    "name": "ipython",
    "version": 3
   },
   "file_extension": ".py",
   "mimetype": "text/x-python",
   "name": "python",
   "nbconvert_exporter": "python",
   "pygments_lexer": "ipython3",
   "version": "3.9.18"
  }
 },
 "nbformat": 4,
 "nbformat_minor": 2
}
