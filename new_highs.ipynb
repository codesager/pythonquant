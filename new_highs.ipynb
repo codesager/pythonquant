{
 "cells": [
  {
   "cell_type": "code",
   "execution_count": null,
   "metadata": {},
   "outputs": [],
   "source": [
    "from  openbb_terminal.sdk import openbb "
   ]
  },
  {
   "cell_type": "code",
   "execution_count": null,
   "metadata": {},
   "outputs": [],
   "source": [
    "# uses finviz screener to get new highs\n",
    "new_highs = openbb.stocks.screener.screener_data(\"new_high\")"
   ]
  },
  {
   "cell_type": "code",
   "execution_count": null,
   "metadata": {},
   "outputs": [],
   "source": [
    "new_highs.info()"
   ]
  },
  {
   "cell_type": "code",
   "execution_count": null,
   "metadata": {},
   "outputs": [],
   "source": [
    "#remove space from any column (market cap) with spaces\n",
    "new_highs.rename(columns= lambda x: x.replace(' ',''), inplace=True)"
   ]
  },
  {
   "cell_type": "code",
   "execution_count": null,
   "metadata": {},
   "outputs": [],
   "source": [
    "# #filter only for US companies having market cap > 5 billions\n",
    "# poi_data = new_highs[\n",
    "#     (new_highs.Country == \"USA\") & \n",
    "#     (new_highs.MarketCap > 5000000000) &\n",
    "#     (new_highs.Price < 200)\n",
    "# ]\n",
    "\n",
    "#clean up \n",
    "port_data = new_highs[\n",
    "    (new_highs.Country == 'USA') &\n",
    "    (new_highs.Price > 9.99) & \n",
    "    (new_highs.MarketCap > 3000000000)\n",
    "]"
   ]
  },
  {
   "cell_type": "code",
   "execution_count": null,
   "metadata": {},
   "outputs": [],
   "source": [
    "tickers = port_data.Ticker.to_list()\n",
    "tickers"
   ]
  },
  {
   "cell_type": "code",
   "execution_count": null,
   "metadata": {},
   "outputs": [],
   "source": [
    "#grab ticker data\n",
    "data = openbb.economy.index(tickers, start_date='2023-01-01', end_date='2023-11-14')"
   ]
  },
  {
   "cell_type": "code",
   "execution_count": null,
   "metadata": {},
   "outputs": [],
   "source": [
    "daily_returns = data.pct_change()[1:]\n",
    "daily_returns"
   ]
  },
  {
   "cell_type": "code",
   "execution_count": null,
   "metadata": {},
   "outputs": [],
   "source": [
    "daily_returns.dropna(how=\"any\", axis=1, inplace=True)"
   ]
  },
  {
   "cell_type": "code",
   "execution_count": null,
   "metadata": {},
   "outputs": [],
   "source": [
    "daily_returns"
   ]
  }
 ],
 "metadata": {
  "kernelspec": {
   "display_name": "quant-stack",
   "language": "python",
   "name": "python3"
  },
  "language_info": {
   "codemirror_mode": {
    "name": "ipython",
    "version": 3
   },
   "file_extension": ".py",
   "mimetype": "text/x-python",
   "name": "python",
   "nbconvert_exporter": "python",
   "pygments_lexer": "ipython3",
   "version": "3.9.18"
  }
 },
 "nbformat": 4,
 "nbformat_minor": 2
}
