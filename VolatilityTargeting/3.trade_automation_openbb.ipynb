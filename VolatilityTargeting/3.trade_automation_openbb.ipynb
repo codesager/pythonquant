{
 "cells": [
  {
   "cell_type": "markdown",
   "metadata": {},
   "source": [
    "# ETL\n",
    "    1. Import data from openbb\n",
    "    2. Compute daily returns based on Adjusted close price"
   ]
  },
  {
   "cell_type": "code",
   "execution_count": null,
   "metadata": {},
   "outputs": [],
   "source": [
    "from openbb_terminal.sdk import openbb\n",
    "import riskfolio as rp"
   ]
  },
  {
   "cell_type": "code",
   "execution_count": null,
   "metadata": {},
   "outputs": [],
   "source": [
    "new_highs = openbb.stocks.screener.screener_data('new_high')"
   ]
  },
  {
   "cell_type": "code",
   "execution_count": null,
   "metadata": {},
   "outputs": [],
   "source": [
    "targeted_new_highs = new_highs[(new_highs.Price > 15) &\n",
    "                    (new_highs.Country == 'USA')]\n",
    "tickers = targeted_new_highs.Ticker.to_list()"
   ]
  },
  {
   "cell_type": "code",
   "execution_count": null,
   "metadata": {},
   "outputs": [],
   "source": [
    "historic_ticker_data = openbb.economy.index(tickers, start_date='2019-01-01', end_date='2023-10-31')"
   ]
  },
  {
   "cell_type": "code",
   "execution_count": null,
   "metadata": {},
   "outputs": [],
   "source": [
    "returns = historic_ticker_data.pct_change()[1:]"
   ]
  },
  {
   "cell_type": "code",
   "execution_count": null,
   "metadata": {},
   "outputs": [],
   "source": [
    "returns.dropna(how=\"any\", axis=1, inplace=True)"
   ]
  },
  {
   "cell_type": "markdown",
   "metadata": {},
   "source": [
    "## Risk Analysis"
   ]
  },
  {
   "cell_type": "code",
   "execution_count": null,
   "metadata": {},
   "outputs": [],
   "source": [
    "portfolio = rp.Portfolio(returns=returns)"
   ]
  },
  {
   "cell_type": "code",
   "execution_count": null,
   "metadata": {},
   "outputs": [],
   "source": [
    "# Define params for risk parity optimizer\n",
    "portfolio.lowerret = 0.0008\n",
    "portfolio.assets_stats(method_mu=\"hist\", method_cov=\"hist\", d=0.94)\n",
    "w_rp = portfolio.rp_optimization(model=\"Classic\", rm=\"MV\", rf=0.05, hist=True)"
   ]
  },
  {
   "cell_type": "code",
   "execution_count": null,
   "metadata": {},
   "outputs": [],
   "source": [
    "pie = rp.plot_pie(\n",
    "    w=w_rp,\n",
    "    width=12,\n",
    "    height=10,\n",
    "    ax=None\n",
    ")"
   ]
  },
  {
   "cell_type": "code",
   "execution_count": null,
   "metadata": {},
   "outputs": [],
   "source": [
    "ax = rp.plot_risk_con(\n",
    "    w=w_rp,\n",
    "    cov= portfolio.cov,\n",
    "    returns= portfolio.returns,\n",
    "    rm=\"MV\",\n",
    "    rf=0.05\n",
    ")"
   ]
  },
  {
   "cell_type": "code",
   "execution_count": null,
   "metadata": {},
   "outputs": [],
   "source": [
    "portfolio_value = 100_000"
   ]
  },
  {
   "cell_type": "code",
   "execution_count": null,
   "metadata": {},
   "outputs": [],
   "source": [
    "w_rp['investment_amount'] = w_rp * portfolio_value # weight * Market Value"
   ]
  },
  {
   "cell_type": "code",
   "execution_count": null,
   "metadata": {},
   "outputs": [],
   "source": [
    "w_rp['last_price'] = historic_ticker_data.iloc[-1]"
   ]
  },
  {
   "cell_type": "code",
   "execution_count": null,
   "metadata": {},
   "outputs": [],
   "source": [
    "w_rp['shares'] = round(w_rp.investment_amount / w_rp.last_price)\n",
    "\n",
    "w_rp"
   ]
  },
  {
   "cell_type": "code",
   "execution_count": null,
   "metadata": {},
   "outputs": [],
   "source": [
    "(w_rp['shares'] * w_rp['last_price']).sum()"
   ]
  },
  {
   "cell_type": "markdown",
   "metadata": {},
   "source": [
    "# IBroker automation\n",
    "    Note: Should have IBroker client up and running for this to work"
   ]
  },
  {
   "cell_type": "code",
   "execution_count": null,
   "metadata": {},
   "outputs": [],
   "source": [
    "from ibapi.client import EClient\n",
    "from ibapi.wrapper import EWrapper\n",
    "from ibapi.contract import Contract\n",
    "from ibapi.order import *\n",
    "\n",
    "import time\n",
    "import threading"
   ]
  },
  {
   "cell_type": "code",
   "execution_count": null,
   "metadata": {},
   "outputs": [],
   "source": [
    "class IBapi(EWrapper, EClient):\n",
    "    def __init__(self):\n",
    "        EClient.__init__(self, self)\n",
    "    \n",
    "    def nextValidId(self, orderId: int):\n",
    "        super().nextValidId(orderId)\n",
    "        self.nextOrderId = orderId\n",
    "    "
   ]
  },
  {
   "cell_type": "code",
   "execution_count": null,
   "metadata": {},
   "outputs": [],
   "source": [
    "def stock_contract(symbol, secType=\"STK\", exchange=\"SMART\", currency=\"USD\"):\n",
    "    contract = Contract()\n",
    "    contract.symbol = symbol\n",
    "    contract.secType = secType\n",
    "    contract.exchange = exchange\n",
    "    contract.currency = currency\n",
    "    return contract\n",
    "\n",
    "\n",
    "def submit_order(contract, direction, qty=100, orderType=\"MKT\", transmit=True):\n",
    "    order = Order()\n",
    "    order.action = direction\n",
    "    order.totalQuantity = qty\n",
    "    order.orderType = orderType\n",
    "    order.transmit = transmit\n",
    "    order.eTradeOnly = \"\"\n",
    "    order.firmQuoteOnly = \"\"\n",
    "    # submit order\n",
    "    app.placeOrder(app.nextOrderId, contract, order)\n",
    "    app.nextOrderId += 1"
   ]
  },
  {
   "cell_type": "code",
   "execution_count": null,
   "metadata": {},
   "outputs": [],
   "source": [
    "def run_loop():\n",
    "    app.run()\n",
    "\n",
    "app = IBapi()\n",
    "app.connect('127.0.0.1', 7497, 123) # verify this on ibroker client\n",
    "app.nextOrderId = None\n",
    "\n",
    "api_thread = threading.Thread(target=run_loop, daemon=True)\n",
    "api_thread.start()\n",
    "\n",
    "while True:\n",
    "    if isinstance(app.nextOrderId, int):\n",
    "        print(\"Connected\")\n",
    "        break\n",
    "    else:\n",
    "        print(\"Waiting\")\n",
    "        time.sleep(1)"
   ]
  },
  {
   "cell_type": "code",
   "execution_count": null,
   "metadata": {},
   "outputs": [],
   "source": [
    "for row in w_rp.itertuples():\n",
    "    contract = stock_contract(row.Index)\n",
    "    submit_order(contract, direction=\"BUY\", qty=row.shares)"
   ]
  }
 ],
 "metadata": {
  "kernelspec": {
   "display_name": "quant-stack-bk",
   "language": "python",
   "name": "python3"
  },
  "language_info": {
   "codemirror_mode": {
    "name": "ipython",
    "version": 3
   },
   "file_extension": ".py",
   "mimetype": "text/x-python",
   "name": "python",
   "nbconvert_exporter": "python",
   "pygments_lexer": "ipython3",
   "version": "3.9.18"
  }
 },
 "nbformat": 4,
 "nbformat_minor": 2
}
